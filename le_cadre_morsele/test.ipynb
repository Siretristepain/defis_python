{
 "cells": [
  {
   "cell_type": "code",
   "execution_count": 1,
   "id": "13290fd8",
   "metadata": {},
   "outputs": [],
   "source": [
    "import matplotlib.image as mpimg\n",
    "import numpy as np\n",
    "import matplotlib.pyplot as plt"
   ]
  },
  {
   "cell_type": "code",
   "execution_count": 2,
   "id": "10773a26",
   "metadata": {},
   "outputs": [],
   "source": [
    "# Charger l'image\n",
    "img = mpimg.imread(\"C:/Users/Utilisateur/Desktop/Python/defis_python/le_cadre_morsele/src/cadre_morsele.png\")"
   ]
  },
  {
   "cell_type": "code",
   "execution_count": 4,
   "id": "d0f0f297",
   "metadata": {},
   "outputs": [
    {
     "name": "stdout",
     "output_type": "stream",
     "text": [
      "Alfred Vail±«£´·­´¾À½ÁÀÍÐÈÕßßç\u0000\u0000\n"
     ]
    }
   ],
   "source": [
    "a = img[351,769::4,1]*255\n",
    "\n",
    "result = []\n",
    "\n",
    "for car in a:\n",
    "    result.append(chr(int(car)))\n",
    "\n",
    "print(''.join(result))"
   ]
  }
 ],
 "metadata": {
  "kernelspec": {
   "display_name": "Python 3",
   "language": "python",
   "name": "python3"
  },
  "language_info": {
   "codemirror_mode": {
    "name": "ipython",
    "version": 3
   },
   "file_extension": ".py",
   "mimetype": "text/x-python",
   "name": "python",
   "nbconvert_exporter": "python",
   "pygments_lexer": "ipython3",
   "version": "3.10.2"
  }
 },
 "nbformat": 4,
 "nbformat_minor": 5
}
